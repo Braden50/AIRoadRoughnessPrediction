{
  "nbformat": 4,
  "nbformat_minor": 0,
  "metadata": {
    "colab": {
      "name": "PartA.ipynb",
      "provenance": [],
      "collapsed_sections": []
    },
    "kernelspec": {
      "name": "python3",
      "display_name": "Python 3"
    },
    "language_info": {
      "name": "python"
    },
    "accelerator": "GPU"
  },
  "cells": [
    {
      "cell_type": "markdown",
      "source": [
        "# Street Roughness Predictor for Bikes\n",
        "### Written by: Michael Krebsbach, Braden Michelson, and Oren Erlich"
      ],
      "metadata": {
        "id": "bdWC9PKubLzy"
      }
    },
    {
      "cell_type": "markdown",
      "source": [
        "# Imports\n",
        "We make use of the following libraries and external code sources: \n",
        "- **Tensorflow**: the structure of the NN\n",
        "- **numpy**: for data manipulation\n",
        "- **matplotlib**: plotting the data and images\n",
        "- The rest of the imports are misc for running the NN\n",
        "\n",
        "Tutorials used: https://www.tensorflow.org/tutorials/load_data/images"
      ],
      "metadata": {
        "id": "L-RzqTzv-Z1k"
      }
    },
    {
      "cell_type": "code",
      "execution_count": null,
      "metadata": {
        "colab": {
          "base_uri": "https://localhost:8080/"
        },
        "id": "ob_IBZxHYkxU",
        "outputId": "cabe512d-064e-4251-c186-73f0603822e4"
      },
      "outputs": [
        {
          "output_type": "stream",
          "name": "stdout",
          "text": [
            "2.8.0\n"
          ]
        }
      ],
      "source": [
        "# TensorFlow and tf.keras\n",
        "import tensorflow as tf\n",
        "\n",
        "#allow access to gdrive\n",
        "from google.colab import drive\n",
        "import pathlib\n",
        "\n",
        "#file manipulation\n",
        "import os\n",
        "import PIL\n",
        "import PIL.Image\n",
        "import tensorflow_datasets as tfds\n",
        "\n",
        "# Helper libraries\n",
        "import numpy as np\n",
        "import matplotlib.pyplot as plt\n",
        "\n",
        "print(tf.__version__)\n"
      ]
    },
    {
      "cell_type": "markdown",
      "source": [
        "# Pre-Process Data\n",
        "\n",
        "Create a shortcut of this Google Drive folder in your main Google drive directory (a.k.a \"My Drive\"). The resulting path should be `My Drive/Pictures`. If the directory is placed anywhere else you will need to adjust the `data_dir` string to point to the correct location.\n",
        "\n",
        "This directory contains the pre-sorted training images of the asphalt at different roughness levels that will be fed into the neural network to generate the model.\n",
        "\n",
        "https://drive.google.com/drive/folders/1sgRUGI_mXmF1Ue8zNnxHRU0tR5-QgBfU?usp=sharing"
      ],
      "metadata": {
        "id": "LAEav3hTUopj"
      }
    },
    {
      "cell_type": "code",
      "source": [
        "\n",
        "drive.mount('/content/gdrive', force_remount=True)\n",
        "data_dir = \"gdrive/My Drive/Pictures\"\n",
        "data_dir = pathlib.Path(data_dir)\n"
      ],
      "metadata": {
        "colab": {
          "base_uri": "https://localhost:8080/"
        },
        "id": "75VrypNXT2VY",
        "outputId": "2108d921-6b31-444c-e745-8a8c49addfe2"
      },
      "execution_count": null,
      "outputs": [
        {
          "output_type": "stream",
          "name": "stdout",
          "text": [
            "Mounted at /content/gdrive\n"
          ]
        }
      ]
    },
    {
      "cell_type": "markdown",
      "source": [
        "In this step we simply get the number of image files recognized within Colab. The target number, assuming that the above step was done correctly, should be 99."
      ],
      "metadata": {
        "id": "57qchMX0bO9u"
      }
    },
    {
      "cell_type": "code",
      "source": [
        "image_count = len(list(data_dir.glob('*/*.jpg')))\n",
        "print(image_count)"
      ],
      "metadata": {
        "colab": {
          "base_uri": "https://localhost:8080/"
        },
        "id": "xuK4sD08VoY2",
        "outputId": "6c5cdddd-12a3-4816-90c0-1cc3e55711ad"
      },
      "execution_count": null,
      "outputs": [
        {
          "output_type": "stream",
          "name": "stdout",
          "text": [
            "99\n"
          ]
        }
      ]
    },
    {
      "cell_type": "markdown",
      "source": [
        "We get the list of all .jpg files in the mounted directory, then render the first in the list to verify that it is not corrupted. \n",
        "\n",
        "The rendering code has been commented out as it is quite slow to run. Uncomment it out if you want to try it out!"
      ],
      "metadata": {
        "id": "Wi1SxiwMbLfv"
      }
    },
    {
      "cell_type": "code",
      "source": [
        "road = list(data_dir.glob('*/*.jpg'))\n",
        "# PIL.Image.open(str(road[0]))\n"
      ],
      "metadata": {
        "id": "bVK7C1Xwat6E",
        "outputId": "bd7a6a9d-322a-4ac5-ba81-1b2449231e89",
        "colab": {
          "base_uri": "https://localhost:8080/",
          "height": 182
        }
      },
      "execution_count": null,
      "outputs": [
        {
          "output_type": "error",
          "ename": "NameError",
          "evalue": "ignored",
          "traceback": [
            "\u001b[0;31m---------------------------------------------------------------------------\u001b[0m",
            "\u001b[0;31mNameError\u001b[0m                                 Traceback (most recent call last)",
            "\u001b[0;32m<ipython-input-1-3a4778ac6221>\u001b[0m in \u001b[0;36m<module>\u001b[0;34m()\u001b[0m\n\u001b[0;32m----> 1\u001b[0;31m \u001b[0mroad\u001b[0m \u001b[0;34m=\u001b[0m \u001b[0mlist\u001b[0m\u001b[0;34m(\u001b[0m\u001b[0mdata_dir\u001b[0m\u001b[0;34m.\u001b[0m\u001b[0mglob\u001b[0m\u001b[0;34m(\u001b[0m\u001b[0;34m'*/*.jpg'\u001b[0m\u001b[0;34m)\u001b[0m\u001b[0;34m)\u001b[0m\u001b[0;34m\u001b[0m\u001b[0;34m\u001b[0m\u001b[0m\n\u001b[0m\u001b[1;32m      2\u001b[0m \u001b[0;31m# PIL.Image.open(str(road[0]))\u001b[0m\u001b[0;34m\u001b[0m\u001b[0;34m\u001b[0m\u001b[0;34m\u001b[0m\u001b[0m\n",
            "\u001b[0;31mNameError\u001b[0m: name 'data_dir' is not defined"
          ]
        }
      ]
    },
    {
      "cell_type": "markdown",
      "source": [
        "# Initialize the Neural Network\n",
        "\n",
        "Here we set up the information for the initial data set. You may notice that the `img_height` and `img_width` variables do not match with the resolution of the input images you will find in the provided `/Pictures/` directory. This is due to both limits on free Google GPU capacity, as well as observed improvements to accuracy when images were compressed to this size.\n",
        "\n",
        "We initialize the training and validation sets of images (train_ds and val_ds, respectively) by using a 80/20 train to test split. The class names are derived by the names of the folders the images exist in. \n",
        "\n",
        "The total number of training pictures divided by the batch size defined how many training runs the model will go through per epoch. Each run takes a batch size number of pictures to train on per run within the epoch. We used 32 for our training which would result in 3 runs of training per epoch.\n",
        "\n",
        "The autotune variable ensures that the images are cached, speeding up the training. "
      ],
      "metadata": {
        "id": "B2R8OPuzbciY"
      }
    },
    {
      "cell_type": "code",
      "source": [
        "batch_size = 32\n",
        "img_height = 256\n",
        "img_width = 256\n",
        "\n",
        "\n",
        "train_ds = tf.keras.utils.image_dataset_from_directory(\n",
        "  data_dir,\n",
        "  validation_split= 0.2,\n",
        "  subset=\"training\",\n",
        "  seed=123,\n",
        "  image_size=(img_height, img_width),\n",
        "  batch_size=batch_size)\n",
        "\n",
        "val_ds = tf.keras.utils.image_dataset_from_directory(\n",
        "  data_dir,\n",
        "  validation_split=0.2,\n",
        "  subset=\"validation\",\n",
        "  seed=123,\n",
        "  image_size=(img_height, img_width),\n",
        "  batch_size=batch_size)\n",
        "\n",
        "class_names = train_ds.class_names\n",
        "num_classes = len(class_names)\n",
        "print(class_names)\n",
        "\n",
        "AUTOTUNE = tf.data.AUTOTUNE\n",
        "\n",
        "train_ds = train_ds.cache().prefetch(buffer_size=AUTOTUNE)\n",
        "val_ds = val_ds.cache().prefetch(buffer_size=AUTOTUNE)\n"
      ],
      "metadata": {
        "colab": {
          "base_uri": "https://localhost:8080/"
        },
        "id": "VNjEU75Lbhr2",
        "outputId": "6aaae0a8-e42f-472a-e9fd-cd3db47ecba5"
      },
      "execution_count": null,
      "outputs": [
        {
          "output_type": "stream",
          "name": "stdout",
          "text": [
            "Found 99 files belonging to 10 classes.\n",
            "Using 80 files for training.\n",
            "Found 99 files belonging to 10 classes.\n",
            "Using 19 files for validation.\n",
            "['1', '10', '2', '3', '4', '5', '6', '7', '8', '9']\n"
          ]
        }
      ]
    },
    {
      "cell_type": "markdown",
      "source": [
        "# Build Neural Network\n",
        "\n",
        "The neural network is a sequential model made up of many layers of resclaing, 2D convolutional networks, max pooling layers, dense layers. The convolutional networks utilizes 128 filters to maximize the accuracy while not requiring too much GPU usage. They also utilize a relu activation function. "
      ],
      "metadata": {
        "id": "0-8-LFhJcEhe"
      }
    },
    {
      "cell_type": "code",
      "source": [
        "model = tf.keras.Sequential([\n",
        "  tf.keras.layers.Rescaling(1./255),\n",
        "  tf.keras.layers.Conv2D(128, 3, activation='relu'),\n",
        "  tf.keras.layers.MaxPooling2D(),\n",
        "  tf.keras.layers.Conv2D(128, 3, activation='relu'),\n",
        "  tf.keras.layers.MaxPooling2D(),\n",
        "  tf.keras.layers.Conv2D(128, 3, activation='relu'),\n",
        "  tf.keras.layers.MaxPooling2D(),\n",
        "  tf.keras.layers.Flatten(),\n",
        "  tf.keras.layers.Dense(4096, activation='relu'),\n",
        "  tf.keras.layers.Dense(num_classes)\n",
        "])\n"
      ],
      "metadata": {
        "id": "dlpBOt0ncH2j"
      },
      "execution_count": null,
      "outputs": []
    },
    {
      "cell_type": "markdown",
      "source": [
        "# Compile Neural Network\n",
        "\n",
        "We compile the neural network by defining its optimizer function as the adam optimizer, a combination of two gradient descent methodologies, and a loss function of Sparse Categorial Cross entropy (detailed here: https://www.tensorflow.org/api_docs/python/tf/keras/losses/SparseCategoricalCrossentropy). \n"
      ],
      "metadata": {
        "id": "_uZzQmpOd2ub"
      }
    },
    {
      "cell_type": "code",
      "source": [
        "model.compile(optimizer='adam',\n",
        "              loss=tf.keras.losses.SparseCategoricalCrossentropy(from_logits=True),\n",
        "              metrics=['accuracy'])\n"
      ],
      "metadata": {
        "id": "zhFULtrxd5Nk"
      },
      "execution_count": null,
      "outputs": []
    },
    {
      "cell_type": "markdown",
      "source": [
        "# Train the model\n",
        "\n",
        "Fit the model with 200 epochs defining the training and validation set. (Epochs can be increased for better accuracy results)"
      ],
      "metadata": {
        "id": "cQBafDhgcKPU"
      }
    },
    {
      "cell_type": "code",
      "source": [
        "model.fit(\n",
        "  train_ds,\n",
        "  validation_data=val_ds,\n",
        "  epochs=200\n",
        ")"
      ],
      "metadata": {
        "id": "qK3TsJmbcKPW",
        "colab": {
          "base_uri": "https://localhost:8080/"
        },
        "outputId": "2aa339a5-e152-4f97-b316-1fe4e6024c96"
      },
      "execution_count": null,
      "outputs": [
        {
          "output_type": "stream",
          "name": "stdout",
          "text": [
            "Epoch 1/200\n",
            "3/3 [==============================] - 64s 7s/step - loss: 40.6876 - accuracy: 0.1625 - val_loss: 3.8565 - val_accuracy: 0.1579\n",
            "Epoch 2/200\n",
            "3/3 [==============================] - 2s 561ms/step - loss: 3.8952 - accuracy: 0.1125 - val_loss: 3.8375 - val_accuracy: 0.1053\n",
            "Epoch 3/200\n",
            "3/3 [==============================] - 2s 561ms/step - loss: 2.5711 - accuracy: 0.2750 - val_loss: 2.0479 - val_accuracy: 0.1053\n",
            "Epoch 4/200\n",
            "3/3 [==============================] - 2s 567ms/step - loss: 1.8838 - accuracy: 0.3750 - val_loss: 2.6446 - val_accuracy: 0.1053\n",
            "Epoch 5/200\n",
            "3/3 [==============================] - 2s 562ms/step - loss: 1.9433 - accuracy: 0.3750 - val_loss: 2.0307 - val_accuracy: 0.1053\n",
            "Epoch 6/200\n",
            "3/3 [==============================] - 2s 563ms/step - loss: 1.7267 - accuracy: 0.3750 - val_loss: 2.2079 - val_accuracy: 0.1053\n",
            "Epoch 7/200\n",
            "3/3 [==============================] - 2s 564ms/step - loss: 1.6839 - accuracy: 0.3750 - val_loss: 2.2401 - val_accuracy: 0.1053\n",
            "Epoch 8/200\n",
            "3/3 [==============================] - 2s 564ms/step - loss: 1.6182 - accuracy: 0.3750 - val_loss: 2.0377 - val_accuracy: 0.2105\n",
            "Epoch 9/200\n",
            "3/3 [==============================] - 2s 563ms/step - loss: 1.5052 - accuracy: 0.4625 - val_loss: 1.9451 - val_accuracy: 0.2105\n",
            "Epoch 10/200\n",
            "3/3 [==============================] - 2s 565ms/step - loss: 1.3953 - accuracy: 0.5000 - val_loss: 1.9033 - val_accuracy: 0.2105\n",
            "Epoch 11/200\n",
            "3/3 [==============================] - 2s 567ms/step - loss: 1.3622 - accuracy: 0.5000 - val_loss: 1.9527 - val_accuracy: 0.1053\n",
            "Epoch 12/200\n",
            "3/3 [==============================] - 2s 566ms/step - loss: 1.5186 - accuracy: 0.3875 - val_loss: 1.8679 - val_accuracy: 0.2105\n",
            "Epoch 13/200\n",
            "3/3 [==============================] - 2s 564ms/step - loss: 1.2191 - accuracy: 0.5000 - val_loss: 1.7547 - val_accuracy: 0.2105\n",
            "Epoch 14/200\n",
            "3/3 [==============================] - 2s 569ms/step - loss: 1.1305 - accuracy: 0.5750 - val_loss: 1.4554 - val_accuracy: 0.2105\n",
            "Epoch 15/200\n",
            "3/3 [==============================] - 2s 564ms/step - loss: 0.9536 - accuracy: 0.6500 - val_loss: 1.4642 - val_accuracy: 0.2105\n",
            "Epoch 16/200\n",
            "3/3 [==============================] - 2s 564ms/step - loss: 0.7954 - accuracy: 0.7125 - val_loss: 1.6827 - val_accuracy: 0.4211\n",
            "Epoch 17/200\n",
            "3/3 [==============================] - 2s 558ms/step - loss: 0.9248 - accuracy: 0.6000 - val_loss: 2.4423 - val_accuracy: 0.2105\n",
            "Epoch 18/200\n",
            "3/3 [==============================] - 2s 563ms/step - loss: 1.2543 - accuracy: 0.5375 - val_loss: 1.7942 - val_accuracy: 0.3684\n",
            "Epoch 19/200\n",
            "3/3 [==============================] - 2s 564ms/step - loss: 1.3325 - accuracy: 0.5375 - val_loss: 2.2079 - val_accuracy: 0.2105\n",
            "Epoch 20/200\n",
            "3/3 [==============================] - 2s 563ms/step - loss: 0.9880 - accuracy: 0.5875 - val_loss: 1.8809 - val_accuracy: 0.3684\n",
            "Epoch 21/200\n",
            "3/3 [==============================] - 2s 562ms/step - loss: 0.8715 - accuracy: 0.6875 - val_loss: 1.8412 - val_accuracy: 0.2105\n",
            "Epoch 22/200\n",
            "3/3 [==============================] - 2s 560ms/step - loss: 0.8946 - accuracy: 0.6250 - val_loss: 1.3739 - val_accuracy: 0.2632\n",
            "Epoch 23/200\n",
            "3/3 [==============================] - 2s 564ms/step - loss: 0.6958 - accuracy: 0.7875 - val_loss: 1.7178 - val_accuracy: 0.3684\n",
            "Epoch 24/200\n",
            "3/3 [==============================] - 2s 566ms/step - loss: 0.5812 - accuracy: 0.7750 - val_loss: 1.6970 - val_accuracy: 0.3158\n",
            "Epoch 25/200\n",
            "3/3 [==============================] - 2s 563ms/step - loss: 0.5490 - accuracy: 0.7750 - val_loss: 1.5046 - val_accuracy: 0.4211\n",
            "Epoch 26/200\n",
            "3/3 [==============================] - 2s 562ms/step - loss: 0.4229 - accuracy: 0.8125 - val_loss: 1.2888 - val_accuracy: 0.3684\n",
            "Epoch 27/200\n",
            "3/3 [==============================] - 2s 564ms/step - loss: 0.3489 - accuracy: 0.8500 - val_loss: 1.5925 - val_accuracy: 0.5263\n",
            "Epoch 28/200\n",
            "3/3 [==============================] - 2s 566ms/step - loss: 0.3769 - accuracy: 0.8500 - val_loss: 1.4010 - val_accuracy: 0.5263\n",
            "Epoch 29/200\n",
            "3/3 [==============================] - 2s 566ms/step - loss: 0.2536 - accuracy: 0.9000 - val_loss: 1.9899 - val_accuracy: 0.3158\n",
            "Epoch 30/200\n",
            "3/3 [==============================] - 2s 564ms/step - loss: 0.2824 - accuracy: 0.8625 - val_loss: 1.3641 - val_accuracy: 0.6316\n",
            "Epoch 31/200\n",
            "3/3 [==============================] - 2s 565ms/step - loss: 0.2059 - accuracy: 0.9250 - val_loss: 2.0319 - val_accuracy: 0.3684\n",
            "Epoch 32/200\n",
            "3/3 [==============================] - 2s 568ms/step - loss: 0.2343 - accuracy: 0.8625 - val_loss: 1.3856 - val_accuracy: 0.4737\n",
            "Epoch 33/200\n",
            "3/3 [==============================] - 2s 566ms/step - loss: 0.1664 - accuracy: 0.9500 - val_loss: 2.1914 - val_accuracy: 0.4211\n",
            "Epoch 34/200\n",
            "3/3 [==============================] - 2s 565ms/step - loss: 0.2013 - accuracy: 0.9125 - val_loss: 1.7793 - val_accuracy: 0.5263\n",
            "Epoch 35/200\n",
            "3/3 [==============================] - 2s 564ms/step - loss: 0.1771 - accuracy: 0.9250 - val_loss: 2.4609 - val_accuracy: 0.4737\n",
            "Epoch 36/200\n",
            "3/3 [==============================] - 2s 564ms/step - loss: 0.1376 - accuracy: 0.9500 - val_loss: 2.1528 - val_accuracy: 0.4211\n",
            "Epoch 37/200\n",
            "3/3 [==============================] - 2s 567ms/step - loss: 0.1498 - accuracy: 0.9750 - val_loss: 1.6452 - val_accuracy: 0.5263\n",
            "Epoch 38/200\n",
            "3/3 [==============================] - 2s 567ms/step - loss: 0.1018 - accuracy: 0.9750 - val_loss: 2.8311 - val_accuracy: 0.5263\n",
            "Epoch 39/200\n",
            "3/3 [==============================] - 2s 568ms/step - loss: 0.0973 - accuracy: 0.9875 - val_loss: 2.1756 - val_accuracy: 0.5263\n",
            "Epoch 40/200\n",
            "3/3 [==============================] - 2s 566ms/step - loss: 0.1314 - accuracy: 0.9500 - val_loss: 5.3564 - val_accuracy: 0.4211\n",
            "Epoch 41/200\n",
            "3/3 [==============================] - 2s 560ms/step - loss: 0.5725 - accuracy: 0.8750 - val_loss: 3.3136 - val_accuracy: 0.3684\n",
            "Epoch 42/200\n",
            "3/3 [==============================] - 2s 567ms/step - loss: 0.3236 - accuracy: 0.8875 - val_loss: 1.1011 - val_accuracy: 0.6842\n",
            "Epoch 43/200\n",
            "3/3 [==============================] - 2s 564ms/step - loss: 0.2550 - accuracy: 0.8625 - val_loss: 1.6775 - val_accuracy: 0.4211\n",
            "Epoch 44/200\n",
            "3/3 [==============================] - 2s 563ms/step - loss: 0.2801 - accuracy: 0.8625 - val_loss: 1.5680 - val_accuracy: 0.4211\n",
            "Epoch 45/200\n",
            "3/3 [==============================] - 2s 564ms/step - loss: 0.1914 - accuracy: 0.9250 - val_loss: 2.3634 - val_accuracy: 0.5263\n",
            "Epoch 46/200\n",
            "3/3 [==============================] - 2s 558ms/step - loss: 0.2031 - accuracy: 0.8875 - val_loss: 2.7606 - val_accuracy: 0.4737\n",
            "Epoch 47/200\n",
            "3/3 [==============================] - 2s 560ms/step - loss: 0.1706 - accuracy: 0.9375 - val_loss: 3.1185 - val_accuracy: 0.4211\n",
            "Epoch 48/200\n",
            "3/3 [==============================] - 2s 559ms/step - loss: 0.1167 - accuracy: 0.9625 - val_loss: 3.4031 - val_accuracy: 0.3684\n",
            "Epoch 49/200\n",
            "3/3 [==============================] - 2s 569ms/step - loss: 0.1198 - accuracy: 0.9500 - val_loss: 2.2807 - val_accuracy: 0.5263\n",
            "Epoch 50/200\n",
            "3/3 [==============================] - 2s 562ms/step - loss: 0.1416 - accuracy: 0.9375 - val_loss: 2.2486 - val_accuracy: 0.5263\n",
            "Epoch 51/200\n",
            "3/3 [==============================] - 2s 567ms/step - loss: 0.0970 - accuracy: 0.9625 - val_loss: 3.3469 - val_accuracy: 0.4211\n",
            "Epoch 52/200\n",
            "3/3 [==============================] - 2s 561ms/step - loss: 0.1644 - accuracy: 0.9000 - val_loss: 4.2880 - val_accuracy: 0.4211\n",
            "Epoch 53/200\n",
            "3/3 [==============================] - 2s 561ms/step - loss: 0.3112 - accuracy: 0.9375 - val_loss: 3.3039 - val_accuracy: 0.5263\n",
            "Epoch 54/200\n",
            "3/3 [==============================] - 2s 565ms/step - loss: 0.1248 - accuracy: 0.9625 - val_loss: 2.5797 - val_accuracy: 0.5263\n",
            "Epoch 55/200\n",
            "3/3 [==============================] - 2s 566ms/step - loss: 0.1318 - accuracy: 0.9500 - val_loss: 2.8065 - val_accuracy: 0.4737\n",
            "Epoch 56/200\n",
            "3/3 [==============================] - 2s 571ms/step - loss: 0.0800 - accuracy: 0.9625 - val_loss: 3.4108 - val_accuracy: 0.4211\n",
            "Epoch 57/200\n",
            "3/3 [==============================] - 2s 570ms/step - loss: 0.0696 - accuracy: 0.9750 - val_loss: 4.2887 - val_accuracy: 0.3684\n",
            "Epoch 58/200\n",
            "3/3 [==============================] - 2s 569ms/step - loss: 0.0947 - accuracy: 0.9750 - val_loss: 2.8759 - val_accuracy: 0.4211\n",
            "Epoch 59/200\n",
            "3/3 [==============================] - 2s 568ms/step - loss: 0.0806 - accuracy: 0.9750 - val_loss: 2.2611 - val_accuracy: 0.4211\n",
            "Epoch 60/200\n",
            "3/3 [==============================] - 2s 567ms/step - loss: 0.0753 - accuracy: 0.9750 - val_loss: 1.8879 - val_accuracy: 0.4737\n",
            "Epoch 61/200\n",
            "3/3 [==============================] - 2s 568ms/step - loss: 0.0812 - accuracy: 0.9625 - val_loss: 2.4668 - val_accuracy: 0.5263\n",
            "Epoch 62/200\n",
            "3/3 [==============================] - 2s 565ms/step - loss: 0.0717 - accuracy: 0.9750 - val_loss: 3.0964 - val_accuracy: 0.5789\n",
            "Epoch 63/200\n",
            "3/3 [==============================] - 2s 568ms/step - loss: 0.0710 - accuracy: 0.9750 - val_loss: 3.1699 - val_accuracy: 0.4211\n",
            "Epoch 64/200\n",
            "3/3 [==============================] - 2s 566ms/step - loss: 0.0559 - accuracy: 0.9750 - val_loss: 3.4740 - val_accuracy: 0.4737\n",
            "Epoch 65/200\n",
            "3/3 [==============================] - 2s 565ms/step - loss: 0.0590 - accuracy: 0.9750 - val_loss: 4.0365 - val_accuracy: 0.4737\n",
            "Epoch 66/200\n",
            "3/3 [==============================] - 2s 563ms/step - loss: 0.0573 - accuracy: 0.9750 - val_loss: 3.8876 - val_accuracy: 0.4737\n",
            "Epoch 67/200\n",
            "3/3 [==============================] - 2s 563ms/step - loss: 0.0504 - accuracy: 0.9750 - val_loss: 3.9651 - val_accuracy: 0.5263\n",
            "Epoch 68/200\n",
            "3/3 [==============================] - 2s 565ms/step - loss: 0.0468 - accuracy: 0.9750 - val_loss: 4.2655 - val_accuracy: 0.4737\n",
            "Epoch 69/200\n",
            "3/3 [==============================] - 2s 560ms/step - loss: 0.0343 - accuracy: 1.0000 - val_loss: 4.1217 - val_accuracy: 0.5263\n",
            "Epoch 70/200\n",
            "3/3 [==============================] - 2s 560ms/step - loss: 0.0358 - accuracy: 0.9875 - val_loss: 4.3910 - val_accuracy: 0.4737\n",
            "Epoch 71/200\n",
            "3/3 [==============================] - 2s 563ms/step - loss: 0.0317 - accuracy: 0.9875 - val_loss: 4.3118 - val_accuracy: 0.5263\n",
            "Epoch 72/200\n",
            "3/3 [==============================] - 2s 566ms/step - loss: 0.0278 - accuracy: 0.9875 - val_loss: 4.6582 - val_accuracy: 0.4737\n",
            "Epoch 73/200\n",
            "3/3 [==============================] - 2s 566ms/step - loss: 0.0238 - accuracy: 1.0000 - val_loss: 4.5294 - val_accuracy: 0.5263\n",
            "Epoch 74/200\n",
            "3/3 [==============================] - 2s 564ms/step - loss: 0.0238 - accuracy: 0.9875 - val_loss: 4.9339 - val_accuracy: 0.4737\n",
            "Epoch 75/200\n",
            "3/3 [==============================] - 2s 563ms/step - loss: 0.0181 - accuracy: 1.0000 - val_loss: 4.7719 - val_accuracy: 0.5263\n",
            "Epoch 76/200\n",
            "3/3 [==============================] - 2s 565ms/step - loss: 0.0219 - accuracy: 0.9875 - val_loss: 5.4588 - val_accuracy: 0.5263\n",
            "Epoch 77/200\n",
            "3/3 [==============================] - 2s 564ms/step - loss: 0.0161 - accuracy: 0.9875 - val_loss: 4.8165 - val_accuracy: 0.5263\n",
            "Epoch 78/200\n",
            "3/3 [==============================] - 2s 564ms/step - loss: 0.0278 - accuracy: 0.9875 - val_loss: 5.5896 - val_accuracy: 0.5263\n",
            "Epoch 79/200\n",
            "3/3 [==============================] - 2s 567ms/step - loss: 0.0226 - accuracy: 0.9875 - val_loss: 4.7927 - val_accuracy: 0.4737\n",
            "Epoch 80/200\n",
            "3/3 [==============================] - 2s 564ms/step - loss: 0.0310 - accuracy: 0.9875 - val_loss: 5.2460 - val_accuracy: 0.5263\n",
            "Epoch 81/200\n",
            "3/3 [==============================] - 2s 568ms/step - loss: 0.0132 - accuracy: 1.0000 - val_loss: 5.4481 - val_accuracy: 0.5263\n",
            "Epoch 82/200\n",
            "3/3 [==============================] - 2s 564ms/step - loss: 0.0085 - accuracy: 1.0000 - val_loss: 5.3080 - val_accuracy: 0.5789\n",
            "Epoch 83/200\n",
            "3/3 [==============================] - 2s 564ms/step - loss: 0.0086 - accuracy: 1.0000 - val_loss: 5.7205 - val_accuracy: 0.5263\n",
            "Epoch 84/200\n",
            "3/3 [==============================] - 2s 571ms/step - loss: 0.0054 - accuracy: 1.0000 - val_loss: 6.2371 - val_accuracy: 0.5263\n",
            "Epoch 85/200\n",
            "3/3 [==============================] - 2s 562ms/step - loss: 0.0049 - accuracy: 1.0000 - val_loss: 6.0870 - val_accuracy: 0.5789\n",
            "Epoch 86/200\n",
            "3/3 [==============================] - 2s 558ms/step - loss: 0.0038 - accuracy: 1.0000 - val_loss: 6.2133 - val_accuracy: 0.5263\n",
            "Epoch 87/200\n",
            "3/3 [==============================] - 2s 564ms/step - loss: 0.0032 - accuracy: 1.0000 - val_loss: 6.5019 - val_accuracy: 0.4737\n",
            "Epoch 88/200\n",
            "3/3 [==============================] - 2s 566ms/step - loss: 0.0030 - accuracy: 1.0000 - val_loss: 6.0832 - val_accuracy: 0.4737\n",
            "Epoch 89/200\n",
            "3/3 [==============================] - 2s 564ms/step - loss: 0.0018 - accuracy: 1.0000 - val_loss: 5.6792 - val_accuracy: 0.4737\n",
            "Epoch 90/200\n",
            "3/3 [==============================] - 2s 564ms/step - loss: 0.0021 - accuracy: 1.0000 - val_loss: 5.7644 - val_accuracy: 0.4737\n",
            "Epoch 91/200\n",
            "3/3 [==============================] - 2s 563ms/step - loss: 0.0015 - accuracy: 1.0000 - val_loss: 6.0796 - val_accuracy: 0.4737\n",
            "Epoch 92/200\n",
            "3/3 [==============================] - 2s 567ms/step - loss: 0.0015 - accuracy: 1.0000 - val_loss: 6.1403 - val_accuracy: 0.5263\n",
            "Epoch 93/200\n",
            "3/3 [==============================] - 2s 561ms/step - loss: 0.0012 - accuracy: 1.0000 - val_loss: 6.0178 - val_accuracy: 0.5263\n",
            "Epoch 94/200\n",
            "3/3 [==============================] - 2s 561ms/step - loss: 0.0012 - accuracy: 1.0000 - val_loss: 6.0041 - val_accuracy: 0.5263\n",
            "Epoch 95/200\n",
            "3/3 [==============================] - 2s 571ms/step - loss: 0.0010 - accuracy: 1.0000 - val_loss: 6.0791 - val_accuracy: 0.5263\n",
            "Epoch 96/200\n",
            "3/3 [==============================] - 2s 563ms/step - loss: 9.6088e-04 - accuracy: 1.0000 - val_loss: 6.0825 - val_accuracy: 0.5263\n",
            "Epoch 97/200\n",
            "3/3 [==============================] - 2s 562ms/step - loss: 8.5339e-04 - accuracy: 1.0000 - val_loss: 6.0531 - val_accuracy: 0.5263\n",
            "Epoch 98/200\n",
            "3/3 [==============================] - 2s 561ms/step - loss: 7.8945e-04 - accuracy: 1.0000 - val_loss: 6.0990 - val_accuracy: 0.5263\n",
            "Epoch 99/200\n",
            "3/3 [==============================] - 2s 569ms/step - loss: 7.5496e-04 - accuracy: 1.0000 - val_loss: 6.1811 - val_accuracy: 0.5263\n",
            "Epoch 100/200\n",
            "3/3 [==============================] - 2s 566ms/step - loss: 6.9326e-04 - accuracy: 1.0000 - val_loss: 6.2386 - val_accuracy: 0.5263\n",
            "Epoch 101/200\n",
            "3/3 [==============================] - 2s 562ms/step - loss: 6.5968e-04 - accuracy: 1.0000 - val_loss: 6.2079 - val_accuracy: 0.5263\n",
            "Epoch 102/200\n",
            "3/3 [==============================] - 2s 566ms/step - loss: 6.1179e-04 - accuracy: 1.0000 - val_loss: 6.1729 - val_accuracy: 0.5263\n",
            "Epoch 103/200\n",
            "3/3 [==============================] - 2s 567ms/step - loss: 5.8093e-04 - accuracy: 1.0000 - val_loss: 6.1835 - val_accuracy: 0.5263\n",
            "Epoch 104/200\n",
            "3/3 [==============================] - 2s 566ms/step - loss: 5.5481e-04 - accuracy: 1.0000 - val_loss: 6.2155 - val_accuracy: 0.5263\n",
            "Epoch 105/200\n",
            "3/3 [==============================] - 2s 562ms/step - loss: 5.2462e-04 - accuracy: 1.0000 - val_loss: 6.2373 - val_accuracy: 0.4737\n",
            "Epoch 106/200\n",
            "3/3 [==============================] - 2s 568ms/step - loss: 5.0135e-04 - accuracy: 1.0000 - val_loss: 6.2198 - val_accuracy: 0.4737\n",
            "Epoch 107/200\n",
            "3/3 [==============================] - 2s 562ms/step - loss: 4.7599e-04 - accuracy: 1.0000 - val_loss: 6.1828 - val_accuracy: 0.4737\n",
            "Epoch 108/200\n",
            "3/3 [==============================] - 2s 563ms/step - loss: 4.5487e-04 - accuracy: 1.0000 - val_loss: 6.1567 - val_accuracy: 0.5263\n",
            "Epoch 109/200\n",
            "3/3 [==============================] - 2s 562ms/step - loss: 4.3663e-04 - accuracy: 1.0000 - val_loss: 6.1894 - val_accuracy: 0.5263\n",
            "Epoch 110/200\n",
            "3/3 [==============================] - 2s 568ms/step - loss: 4.1823e-04 - accuracy: 1.0000 - val_loss: 6.1975 - val_accuracy: 0.5263\n",
            "Epoch 111/200\n",
            "3/3 [==============================] - 2s 568ms/step - loss: 4.0119e-04 - accuracy: 1.0000 - val_loss: 6.1743 - val_accuracy: 0.5263\n",
            "Epoch 112/200\n",
            "3/3 [==============================] - 2s 564ms/step - loss: 3.8459e-04 - accuracy: 1.0000 - val_loss: 6.1336 - val_accuracy: 0.5263\n",
            "Epoch 113/200\n",
            "3/3 [==============================] - 2s 562ms/step - loss: 3.6954e-04 - accuracy: 1.0000 - val_loss: 6.1389 - val_accuracy: 0.5263\n",
            "Epoch 114/200\n",
            "3/3 [==============================] - 2s 568ms/step - loss: 3.5666e-04 - accuracy: 1.0000 - val_loss: 6.1660 - val_accuracy: 0.5263\n",
            "Epoch 115/200\n",
            "3/3 [==============================] - 2s 569ms/step - loss: 3.4324e-04 - accuracy: 1.0000 - val_loss: 6.1839 - val_accuracy: 0.5263\n",
            "Epoch 116/200\n",
            "3/3 [==============================] - 2s 564ms/step - loss: 3.3082e-04 - accuracy: 1.0000 - val_loss: 6.1668 - val_accuracy: 0.5263\n",
            "Epoch 117/200\n",
            "3/3 [==============================] - 2s 564ms/step - loss: 3.1822e-04 - accuracy: 1.0000 - val_loss: 6.1332 - val_accuracy: 0.5263\n",
            "Epoch 118/200\n",
            "3/3 [==============================] - 2s 565ms/step - loss: 3.0710e-04 - accuracy: 1.0000 - val_loss: 6.1327 - val_accuracy: 0.5263\n",
            "Epoch 119/200\n",
            "3/3 [==============================] - 2s 570ms/step - loss: 2.9613e-04 - accuracy: 1.0000 - val_loss: 6.1256 - val_accuracy: 0.5263\n",
            "Epoch 120/200\n",
            "3/3 [==============================] - 2s 575ms/step - loss: 2.8582e-04 - accuracy: 1.0000 - val_loss: 6.1550 - val_accuracy: 0.5263\n",
            "Epoch 121/200\n",
            "3/3 [==============================] - 2s 566ms/step - loss: 2.7598e-04 - accuracy: 1.0000 - val_loss: 6.1585 - val_accuracy: 0.5263\n",
            "Epoch 122/200\n",
            "3/3 [==============================] - 2s 565ms/step - loss: 2.6644e-04 - accuracy: 1.0000 - val_loss: 6.1162 - val_accuracy: 0.5263\n",
            "Epoch 123/200\n",
            "3/3 [==============================] - 2s 566ms/step - loss: 2.5741e-04 - accuracy: 1.0000 - val_loss: 6.1159 - val_accuracy: 0.5263\n",
            "Epoch 124/200\n",
            "3/3 [==============================] - 2s 569ms/step - loss: 2.4909e-04 - accuracy: 1.0000 - val_loss: 6.1329 - val_accuracy: 0.5263\n",
            "Epoch 125/200\n",
            "3/3 [==============================] - 2s 565ms/step - loss: 2.4106e-04 - accuracy: 1.0000 - val_loss: 6.0923 - val_accuracy: 0.5263\n",
            "Epoch 126/200\n",
            "3/3 [==============================] - 2s 564ms/step - loss: 2.3301e-04 - accuracy: 1.0000 - val_loss: 6.0432 - val_accuracy: 0.5263\n",
            "Epoch 127/200\n",
            "3/3 [==============================] - 2s 559ms/step - loss: 2.2585e-04 - accuracy: 1.0000 - val_loss: 6.0764 - val_accuracy: 0.5263\n",
            "Epoch 128/200\n",
            "3/3 [==============================] - 2s 562ms/step - loss: 2.1727e-04 - accuracy: 1.0000 - val_loss: 6.0926 - val_accuracy: 0.5263\n",
            "Epoch 129/200\n",
            "3/3 [==============================] - 2s 567ms/step - loss: 2.0960e-04 - accuracy: 1.0000 - val_loss: 6.0359 - val_accuracy: 0.5263\n",
            "Epoch 130/200\n",
            "3/3 [==============================] - 2s 569ms/step - loss: 2.0190e-04 - accuracy: 1.0000 - val_loss: 5.9945 - val_accuracy: 0.5263\n",
            "Epoch 131/200\n",
            "3/3 [==============================] - 2s 563ms/step - loss: 1.9502e-04 - accuracy: 1.0000 - val_loss: 6.0160 - val_accuracy: 0.4737\n",
            "Epoch 132/200\n",
            "3/3 [==============================] - 2s 566ms/step - loss: 1.8725e-04 - accuracy: 1.0000 - val_loss: 5.9948 - val_accuracy: 0.4737\n",
            "Epoch 133/200\n",
            "3/3 [==============================] - 2s 562ms/step - loss: 1.7932e-04 - accuracy: 1.0000 - val_loss: 5.9612 - val_accuracy: 0.4737\n",
            "Epoch 134/200\n",
            "3/3 [==============================] - 2s 562ms/step - loss: 1.7246e-04 - accuracy: 1.0000 - val_loss: 5.9921 - val_accuracy: 0.4737\n",
            "Epoch 135/200\n",
            "3/3 [==============================] - 2s 570ms/step - loss: 1.6482e-04 - accuracy: 1.0000 - val_loss: 6.0191 - val_accuracy: 0.4737\n",
            "Epoch 136/200\n",
            "3/3 [==============================] - 2s 568ms/step - loss: 1.5701e-04 - accuracy: 1.0000 - val_loss: 5.9609 - val_accuracy: 0.4737\n",
            "Epoch 137/200\n",
            "3/3 [==============================] - 2s 564ms/step - loss: 1.4990e-04 - accuracy: 1.0000 - val_loss: 5.9216 - val_accuracy: 0.4737\n",
            "Epoch 138/200\n",
            "3/3 [==============================] - 2s 565ms/step - loss: 1.4264e-04 - accuracy: 1.0000 - val_loss: 5.9466 - val_accuracy: 0.4737\n",
            "Epoch 139/200\n",
            "3/3 [==============================] - 2s 565ms/step - loss: 1.3651e-04 - accuracy: 1.0000 - val_loss: 5.9493 - val_accuracy: 0.4737\n",
            "Epoch 140/200\n",
            "3/3 [==============================] - 2s 567ms/step - loss: 1.2994e-04 - accuracy: 1.0000 - val_loss: 5.9002 - val_accuracy: 0.4737\n",
            "Epoch 141/200\n",
            "3/3 [==============================] - 2s 562ms/step - loss: 1.2290e-04 - accuracy: 1.0000 - val_loss: 5.8743 - val_accuracy: 0.4737\n",
            "Epoch 142/200\n",
            "3/3 [==============================] - 2s 567ms/step - loss: 1.1792e-04 - accuracy: 1.0000 - val_loss: 5.9454 - val_accuracy: 0.4737\n",
            "Epoch 143/200\n",
            "3/3 [==============================] - 2s 566ms/step - loss: 1.1280e-04 - accuracy: 1.0000 - val_loss: 5.9279 - val_accuracy: 0.4737\n",
            "Epoch 144/200\n",
            "3/3 [==============================] - 2s 568ms/step - loss: 1.0637e-04 - accuracy: 1.0000 - val_loss: 5.8477 - val_accuracy: 0.4737\n",
            "Epoch 145/200\n",
            "3/3 [==============================] - 2s 562ms/step - loss: 1.0101e-04 - accuracy: 1.0000 - val_loss: 5.8457 - val_accuracy: 0.4737\n",
            "Epoch 146/200\n",
            "3/3 [==============================] - 2s 569ms/step - loss: 9.6368e-05 - accuracy: 1.0000 - val_loss: 5.9026 - val_accuracy: 0.4737\n",
            "Epoch 147/200\n",
            "3/3 [==============================] - 2s 563ms/step - loss: 9.2800e-05 - accuracy: 1.0000 - val_loss: 5.8725 - val_accuracy: 0.4737\n",
            "Epoch 148/200\n",
            "3/3 [==============================] - 2s 570ms/step - loss: 8.7450e-05 - accuracy: 1.0000 - val_loss: 5.7825 - val_accuracy: 0.4737\n",
            "Epoch 149/200\n",
            "3/3 [==============================] - 2s 564ms/step - loss: 8.2881e-05 - accuracy: 1.0000 - val_loss: 5.7900 - val_accuracy: 0.4737\n",
            "Epoch 150/200\n",
            "3/3 [==============================] - 2s 567ms/step - loss: 7.9111e-05 - accuracy: 1.0000 - val_loss: 5.8369 - val_accuracy: 0.4737\n",
            "Epoch 151/200\n",
            "3/3 [==============================] - 2s 564ms/step - loss: 7.5511e-05 - accuracy: 1.0000 - val_loss: 5.8506 - val_accuracy: 0.4737\n",
            "Epoch 152/200\n",
            "3/3 [==============================] - 2s 563ms/step - loss: 7.1716e-05 - accuracy: 1.0000 - val_loss: 5.7960 - val_accuracy: 0.4737\n",
            "Epoch 153/200\n",
            "3/3 [==============================] - 2s 569ms/step - loss: 6.8515e-05 - accuracy: 1.0000 - val_loss: 5.7954 - val_accuracy: 0.4737\n",
            "Epoch 154/200\n",
            "3/3 [==============================] - 2s 569ms/step - loss: 6.5545e-05 - accuracy: 1.0000 - val_loss: 5.8223 - val_accuracy: 0.4737\n",
            "Epoch 155/200\n",
            "3/3 [==============================] - 2s 569ms/step - loss: 6.2374e-05 - accuracy: 1.0000 - val_loss: 5.7985 - val_accuracy: 0.4737\n",
            "Epoch 156/200\n",
            "3/3 [==============================] - 2s 575ms/step - loss: 5.9624e-05 - accuracy: 1.0000 - val_loss: 5.7880 - val_accuracy: 0.4737\n",
            "Epoch 157/200\n",
            "3/3 [==============================] - 2s 564ms/step - loss: 5.7083e-05 - accuracy: 1.0000 - val_loss: 5.7905 - val_accuracy: 0.4737\n",
            "Epoch 158/200\n",
            "3/3 [==============================] - 2s 570ms/step - loss: 5.4875e-05 - accuracy: 1.0000 - val_loss: 5.8051 - val_accuracy: 0.4737\n",
            "Epoch 159/200\n",
            "3/3 [==============================] - 2s 565ms/step - loss: 5.2434e-05 - accuracy: 1.0000 - val_loss: 5.7767 - val_accuracy: 0.4737\n",
            "Epoch 160/200\n",
            "3/3 [==============================] - 2s 570ms/step - loss: 5.0479e-05 - accuracy: 1.0000 - val_loss: 5.7748 - val_accuracy: 0.4737\n",
            "Epoch 161/200\n",
            "3/3 [==============================] - 2s 567ms/step - loss: 4.8498e-05 - accuracy: 1.0000 - val_loss: 5.7741 - val_accuracy: 0.4737\n",
            "Epoch 162/200\n",
            "3/3 [==============================] - 2s 564ms/step - loss: 4.6526e-05 - accuracy: 1.0000 - val_loss: 5.7922 - val_accuracy: 0.4737\n",
            "Epoch 163/200\n",
            "3/3 [==============================] - 2s 566ms/step - loss: 4.5029e-05 - accuracy: 1.0000 - val_loss: 5.7580 - val_accuracy: 0.4737\n",
            "Epoch 164/200\n",
            "3/3 [==============================] - 2s 572ms/step - loss: 4.3067e-05 - accuracy: 1.0000 - val_loss: 5.7404 - val_accuracy: 0.4737\n",
            "Epoch 165/200\n",
            "3/3 [==============================] - 2s 569ms/step - loss: 4.1698e-05 - accuracy: 1.0000 - val_loss: 5.7789 - val_accuracy: 0.4737\n",
            "Epoch 166/200\n",
            "3/3 [==============================] - 2s 567ms/step - loss: 4.0269e-05 - accuracy: 1.0000 - val_loss: 5.7725 - val_accuracy: 0.4737\n",
            "Epoch 167/200\n",
            "3/3 [==============================] - 2s 575ms/step - loss: 3.8970e-05 - accuracy: 1.0000 - val_loss: 5.7418 - val_accuracy: 0.4737\n",
            "Epoch 168/200\n",
            "3/3 [==============================] - 2s 574ms/step - loss: 3.7394e-05 - accuracy: 1.0000 - val_loss: 5.7284 - val_accuracy: 0.4737\n",
            "Epoch 169/200\n",
            "3/3 [==============================] - 2s 564ms/step - loss: 3.6293e-05 - accuracy: 1.0000 - val_loss: 5.7577 - val_accuracy: 0.4737\n",
            "Epoch 170/200\n",
            "3/3 [==============================] - 2s 570ms/step - loss: 3.5062e-05 - accuracy: 1.0000 - val_loss: 5.7464 - val_accuracy: 0.4737\n",
            "Epoch 171/200\n",
            "3/3 [==============================] - 2s 570ms/step - loss: 3.3961e-05 - accuracy: 1.0000 - val_loss: 5.7354 - val_accuracy: 0.4737\n",
            "Epoch 172/200\n",
            "3/3 [==============================] - 2s 573ms/step - loss: 3.2997e-05 - accuracy: 1.0000 - val_loss: 5.7373 - val_accuracy: 0.4737\n",
            "Epoch 173/200\n",
            "3/3 [==============================] - 2s 569ms/step - loss: 3.2072e-05 - accuracy: 1.0000 - val_loss: 5.7464 - val_accuracy: 0.4737\n",
            "Epoch 174/200\n",
            "3/3 [==============================] - 2s 568ms/step - loss: 3.0953e-05 - accuracy: 1.0000 - val_loss: 5.7363 - val_accuracy: 0.4737\n",
            "Epoch 175/200\n",
            "3/3 [==============================] - 2s 563ms/step - loss: 3.0068e-05 - accuracy: 1.0000 - val_loss: 5.7096 - val_accuracy: 0.4737\n",
            "Epoch 176/200\n",
            "3/3 [==============================] - 2s 566ms/step - loss: 2.9223e-05 - accuracy: 1.0000 - val_loss: 5.7257 - val_accuracy: 0.4737\n",
            "Epoch 177/200\n",
            "3/3 [==============================] - 2s 566ms/step - loss: 2.8361e-05 - accuracy: 1.0000 - val_loss: 5.7303 - val_accuracy: 0.4737\n",
            "Epoch 178/200\n",
            "3/3 [==============================] - 2s 565ms/step - loss: 2.7611e-05 - accuracy: 1.0000 - val_loss: 5.7179 - val_accuracy: 0.4737\n",
            "Epoch 179/200\n",
            "3/3 [==============================] - 2s 565ms/step - loss: 2.6854e-05 - accuracy: 1.0000 - val_loss: 5.7076 - val_accuracy: 0.4737\n",
            "Epoch 180/200\n",
            "3/3 [==============================] - 2s 568ms/step - loss: 2.6106e-05 - accuracy: 1.0000 - val_loss: 5.7038 - val_accuracy: 0.4737\n",
            "Epoch 181/200\n",
            "3/3 [==============================] - 2s 565ms/step - loss: 2.5497e-05 - accuracy: 1.0000 - val_loss: 5.7025 - val_accuracy: 0.4737\n",
            "Epoch 182/200\n",
            "3/3 [==============================] - 2s 565ms/step - loss: 2.4739e-05 - accuracy: 1.0000 - val_loss: 5.7235 - val_accuracy: 0.4737\n",
            "Epoch 183/200\n",
            "3/3 [==============================] - 2s 568ms/step - loss: 2.4176e-05 - accuracy: 1.0000 - val_loss: 5.7028 - val_accuracy: 0.4737\n",
            "Epoch 184/200\n",
            "3/3 [==============================] - 2s 571ms/step - loss: 2.3642e-05 - accuracy: 1.0000 - val_loss: 5.6870 - val_accuracy: 0.4737\n",
            "Epoch 185/200\n",
            "3/3 [==============================] - 2s 568ms/step - loss: 2.3037e-05 - accuracy: 1.0000 - val_loss: 5.6921 - val_accuracy: 0.4737\n",
            "Epoch 186/200\n",
            "3/3 [==============================] - 2s 568ms/step - loss: 2.2365e-05 - accuracy: 1.0000 - val_loss: 5.7086 - val_accuracy: 0.4737\n",
            "Epoch 187/200\n",
            "3/3 [==============================] - 2s 569ms/step - loss: 2.1923e-05 - accuracy: 1.0000 - val_loss: 5.7027 - val_accuracy: 0.4737\n",
            "Epoch 188/200\n",
            "3/3 [==============================] - 2s 572ms/step - loss: 2.1345e-05 - accuracy: 1.0000 - val_loss: 5.6761 - val_accuracy: 0.4737\n",
            "Epoch 189/200\n",
            "3/3 [==============================] - 2s 569ms/step - loss: 2.0832e-05 - accuracy: 1.0000 - val_loss: 5.6686 - val_accuracy: 0.4737\n",
            "Epoch 190/200\n",
            "3/3 [==============================] - 2s 567ms/step - loss: 2.0373e-05 - accuracy: 1.0000 - val_loss: 5.6951 - val_accuracy: 0.4737\n",
            "Epoch 191/200\n",
            "3/3 [==============================] - 2s 563ms/step - loss: 1.9959e-05 - accuracy: 1.0000 - val_loss: 5.6935 - val_accuracy: 0.4737\n",
            "Epoch 192/200\n",
            "3/3 [==============================] - 2s 566ms/step - loss: 1.9476e-05 - accuracy: 1.0000 - val_loss: 5.6861 - val_accuracy: 0.4737\n",
            "Epoch 193/200\n",
            "3/3 [==============================] - 2s 565ms/step - loss: 1.9098e-05 - accuracy: 1.0000 - val_loss: 5.6644 - val_accuracy: 0.4737\n",
            "Epoch 194/200\n",
            "3/3 [==============================] - 2s 564ms/step - loss: 1.8602e-05 - accuracy: 1.0000 - val_loss: 5.6581 - val_accuracy: 0.4737\n",
            "Epoch 195/200\n",
            "3/3 [==============================] - 2s 569ms/step - loss: 1.8204e-05 - accuracy: 1.0000 - val_loss: 5.6718 - val_accuracy: 0.4737\n",
            "Epoch 196/200\n",
            "3/3 [==============================] - 2s 570ms/step - loss: 1.7897e-05 - accuracy: 1.0000 - val_loss: 5.6682 - val_accuracy: 0.4737\n",
            "Epoch 197/200\n",
            "3/3 [==============================] - 2s 566ms/step - loss: 1.7465e-05 - accuracy: 1.0000 - val_loss: 5.6742 - val_accuracy: 0.4737\n",
            "Epoch 198/200\n",
            "3/3 [==============================] - 2s 568ms/step - loss: 1.7159e-05 - accuracy: 1.0000 - val_loss: 5.6650 - val_accuracy: 0.4737\n",
            "Epoch 199/200\n",
            "3/3 [==============================] - 2s 570ms/step - loss: 1.6766e-05 - accuracy: 1.0000 - val_loss: 5.6312 - val_accuracy: 0.4737\n",
            "Epoch 200/200\n",
            "3/3 [==============================] - 2s 566ms/step - loss: 1.6456e-05 - accuracy: 1.0000 - val_loss: 5.6272 - val_accuracy: 0.4737\n"
          ]
        },
        {
          "output_type": "execute_result",
          "data": {
            "text/plain": [
              "<keras.callbacks.History at 0x7ff95e567450>"
            ]
          },
          "metadata": {},
          "execution_count": 8
        }
      ]
    },
    {
      "cell_type": "markdown",
      "source": [
        "# Check Accuracy\n",
        "\n",
        "Evaluate the model and output simplified results. "
      ],
      "metadata": {
        "id": "Co0wfOJceIER"
      }
    },
    {
      "cell_type": "code",
      "source": [
        "test_loss, test_acc = model.evaluate(val_ds, verbose=2)\n",
        "\n",
        "print('\\nTest accuracy:', test_acc)\n"
      ],
      "metadata": {
        "id": "c3gmULNZd1rE",
        "colab": {
          "base_uri": "https://localhost:8080/"
        },
        "outputId": "a4578c50-486e-49ab-fc0f-3a6399c33195"
      },
      "execution_count": null,
      "outputs": [
        {
          "output_type": "stream",
          "name": "stdout",
          "text": [
            "1/1 - 0s - loss: 5.6272 - accuracy: 0.4737 - 143ms/epoch - 143ms/step\n",
            "\n",
            "Test accuracy: 0.4736842215061188\n"
          ]
        }
      ]
    },
    {
      "cell_type": "markdown",
      "source": [
        "test the model"
      ],
      "metadata": {
        "id": "PjMAwbBCcPmK"
      }
    }
  ]
}